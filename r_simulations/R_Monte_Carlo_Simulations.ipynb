{
 "cells": [
  {
   "cell_type": "markdown",
   "metadata": {},
   "source": [
    "# Performing Parallelized Monte-Carlo Simulations in R \n",
    "\n",
    "Note: Prior to running this notebook, please select the \"R\" Kernel; othewise, the code will not run.\n",
    "\n",
    "## Introduction\n",
    "\n",
    "When performing simulations, the ability to parallize processes can be very important. Distributing processes amoungst different processers is one way to allow for parallel computation, speeding up time to final results. \n",
    "The demo shows how a large SageMaker notebook instance can be leveraged to perform Monte-Carlo simulations in a parallelized fashion.\n",
    "\n",
    "We will perform Monte-Carlo simulations to explore social distancing. Within the context of diseases (e.g. COVID-19) social distancing is an essential practice to minimize infection.\n",
    "Give a room of dimensions of certain size (e.g. 10 feet by 10 feet) and a certain number of people in the room, we will answer how many expected social distancing violations per person are found, assuming that people are randomly distributed in the room, and that none of them are moving.\n",
    "\n",
    "\n",
    "This notebook was originally executed on a **ml.m5.24xlarge** instance. This instance has 96 vCPUs and can thus take advantage of parallelization across many  CPUs. If you are using a smaller instance, you should parallelize across fewer CPUs."
   ]
  },
  {
   "cell_type": "code",
   "execution_count": 2,
   "metadata": {},
   "outputs": [
    {
     "name": "stderr",
     "output_type": "stream",
     "text": [
      "Updating HTML index of packages in '.Library'\n",
      "Making 'packages.html' ... done\n"
     ]
    }
   ],
   "source": [
    "#skip if installed already\n",
    "install.packages(\"doParallel\")"
   ]
  },
  {
   "cell_type": "code",
   "execution_count": 1,
   "metadata": {},
   "outputs": [
    {
     "name": "stderr",
     "output_type": "stream",
     "text": [
      "Loading required package: iterators\n",
      "Loading required package: parallel\n"
     ]
    },
    {
     "data": {
      "text/html": [
       "96"
      ],
      "text/latex": [
       "96"
      ],
      "text/markdown": [
       "96"
      ],
      "text/plain": [
       "[1] 96"
      ]
     },
     "metadata": {},
     "output_type": "display_data"
    }
   ],
   "source": [
    "library('foreach')\n",
    "library('doParallel')\n",
    "detectCores(all.tests = FALSE, logical = TRUE) #find out how many cores are on the machine\n",
    "num_to_parallelize=90 #change depending on the instance being used\n",
    "cl <- makeCluster(num_to_parallelize)\n",
    "registerDoParallel(cl)"
   ]
  },
  {
   "cell_type": "code",
   "execution_count": 2,
   "metadata": {},
   "outputs": [],
   "source": [
    "perform_room_simulation <- function(x_length,y_length,num_people){\n",
    "    #given dimensions of the room, and number of people return all pairwise distances\n",
    "    x=runif(num_people, min = 0, max = x_length)\n",
    "    y=runif(num_people, min = 0, max = y_length)\n",
    "    df=t(rbind(x,y))\n",
    "    df_dist=dist(df)\n",
    "    #return(df_dist)\n",
    "    to_return=as.list(df_dist)\n",
    "    to_return=lapply(to_return,round,5)\n",
    "    return(to_return)\n",
    "}"
   ]
  },
  {
   "cell_type": "markdown",
   "metadata": {},
   "source": [
    "We will start with a small simulation"
   ]
  },
  {
   "cell_type": "code",
   "execution_count": 3,
   "metadata": {},
   "outputs": [
    {
     "name": "stdout",
     "output_type": "stream",
     "text": [
      "Finished simulation 0.04391122 \n"
     ]
    }
   ],
   "source": [
    "start.time <- Sys.time()\n",
    "x_length=10\n",
    "y_length=10\n",
    "num_people=5\n",
    "max_iterations=100\n",
    "result <- foreach (i =1:max_iterations) %do%\n",
    "{\n",
    "    mini_result=perform_room_simulation(x_length=x_length,y_length=y_length,num_people=num_people)\n",
    "    mini_result=unlist(mini_result)\n",
    "    mini_result_pre=mini_result\n",
    "    num_violates=length(mini_result[mini_result <6]) #number of violations of social distancing \n",
    "    average_violations_per_person=num_violates/num_people\n",
    "    \n",
    "    \n",
    "}\n",
    "result=unlist(result)\n",
    "end.time <- Sys.time()\n",
    "time.taken <- end.time - start.time\n",
    "time_taken=time.taken\n",
    "cat(\"Finished simulation\",time_taken,\"\\n\")\n"
   ]
  },
  {
   "cell_type": "code",
   "execution_count": 4,
   "metadata": {},
   "outputs": [
    {
     "name": "stdout",
     "output_type": "stream",
     "text": [
      "Simulation Mean:  1.196 \n",
      "Simulation Standard Deviation:  0.4148555"
     ]
    }
   ],
   "source": [
    "cat (\"Simulation Mean: \",mean(result),\"\\n\")\n",
    "cat(\"Simulation Standard Deviation: \", sd(result))"
   ]
  },
  {
   "cell_type": "markdown",
   "metadata": {},
   "source": [
    "Thus, we have an average of 1.264 violations per person\n",
    "\n",
    "Lets increase the number of people, size of the room and iterations in our simulation. This new simulation takes about 1 minute"
   ]
  },
  {
   "cell_type": "code",
   "execution_count": 5,
   "metadata": {},
   "outputs": [
    {
     "name": "stdout",
     "output_type": "stream",
     "text": [
      "Finished simulation 37.03234 \n"
     ]
    }
   ],
   "source": [
    "start.time <- Sys.time()\n",
    "x_length=100\n",
    "y_length=100\n",
    "num_people=1000\n",
    "max_iterations=100\n",
    "result <- foreach (i =1:max_iterations) %do%\n",
    "{\n",
    "    mini_result=perform_room_simulation(x_length=x_length,y_length=y_length,num_people=num_people)\n",
    "    mini_result=unlist(mini_result)\n",
    "    mini_result_pre=mini_result\n",
    "    num_violates=length(mini_result[mini_result <6]) #number of violations of social distancing \n",
    "    average_violations_per_person=num_violates/num_people\n",
    "    \n",
    "    \n",
    "}\n",
    "result=unlist(result)\n",
    "end.time <- Sys.time()\n",
    "time.taken <- end.time - start.time\n",
    "time_taken=time.taken\n",
    "cat(\"Finished simulation\",time_taken,\"\\n\")"
   ]
  },
  {
   "cell_type": "code",
   "execution_count": 6,
   "metadata": {},
   "outputs": [
    {
     "name": "stdout",
     "output_type": "stream",
     "text": [
      "Simulation Mean:  5.36624 \n",
      "Simulation Standard Deviation:  0.08609193"
     ]
    }
   ],
   "source": [
    "cat (\"Simulation Mean: \",mean(result),\"\\n\")\n",
    "cat(\"Simulation Standard Deviation: \", sd(result))"
   ]
  },
  {
   "cell_type": "markdown",
   "metadata": {},
   "source": [
    "As expected, both the mean and variance have changed. There are now about 5.4 violations per person."
   ]
  },
  {
   "cell_type": "markdown",
   "metadata": {},
   "source": [
    "To help scale, we will take advantage of parallel processing. "
   ]
  },
  {
   "cell_type": "code",
   "execution_count": 7,
   "metadata": {},
   "outputs": [
    {
     "name": "stdout",
     "output_type": "stream",
     "text": [
      "Finished simulation 2.928248 \n"
     ]
    }
   ],
   "source": [
    "#do it in parallel\n",
    "start.time <- Sys.time()\n",
    "x_length=100\n",
    "y_length=100\n",
    "num_people=1000\n",
    "max_iterations=100\n",
    "result <- foreach (i =1:max_iterations) %dopar% #parallize each iteraction\n",
    "{\n",
    "    mini_result=perform_room_simulation(x_length=x_length,y_length=y_length,num_people=num_people)\n",
    "    mini_result=unlist(mini_result)\n",
    "    mini_result_pre=mini_result\n",
    "    num_violates=length(mini_result[mini_result <6])\n",
    "    average_violations_per_person=num_violates/num_people\n",
    "    \n",
    "    \n",
    "}\n",
    "result=unlist(result)\n",
    "end.time <- Sys.time()\n",
    "time.taken <- end.time - start.time\n",
    "time_taken=time.taken\n",
    "cat(\"Finished simulation\",time_taken,\"\\n\")\n"
   ]
  },
  {
   "cell_type": "code",
   "execution_count": 8,
   "metadata": {},
   "outputs": [
    {
     "name": "stdout",
     "output_type": "stream",
     "text": [
      "Simulation Mean:  5.36654 \n",
      "Simulation Standard Deviation:  0.08450526"
     ]
    }
   ],
   "source": [
    "cat (\"Simulation Mean: \",mean(result),\"\\n\")\n",
    "cat(\"Simulation Standard Deviation: \", sd(result))"
   ]
  },
  {
   "cell_type": "markdown",
   "metadata": {},
   "source": [
    "## Conclusion\n",
    "\n",
    "The parallelized version of this simulation took ~2.5 seconds, while the non-parallized version took about ~35 seconds; a 14 fold improvement. Note that your specific results may differ depending on the size of the instance you are running.\n"
   ]
  }
 ],
 "metadata": {
  "kernelspec": {
   "display_name": "Python 3",
   "language": "python",
   "name": "python3"
  },
  "language_info": {
   "codemirror_mode": {
    "name": "ipython",
    "version": 3
   },
   "file_extension": ".py",
   "mimetype": "text/x-python",
   "name": "python",
   "nbconvert_exporter": "python",
   "pygments_lexer": "ipython3",
   "version": "3.7.6"
  }
 },
 "nbformat": 4,
 "nbformat_minor": 4
}
