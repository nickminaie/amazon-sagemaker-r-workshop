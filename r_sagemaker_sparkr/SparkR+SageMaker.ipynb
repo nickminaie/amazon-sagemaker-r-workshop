{
 "cells": [
  {
   "cell_type": "markdown",
   "metadata": {},
   "source": [
    "# Using Spark EMR Clusters in SageMaker with R Kernel\n",
    "\n",
    "<hr>\n",
    "\n",
    "\n",
    "The purpose of this notebook is to demonstrate how SageMaker notebook with R kernel can be connected to an EMR cluster using `SparklyR` package. The notebook uses `iris`, `abalone`, and `mtcars` public datasets to demonstrate this connection.\n",
    "\n",
    "Before using this notebook, you need to establish the VPC and Security Groups for the EMR cluster and your SageMaker notebook to ensure seamless connection. Please follow the steps outlines in the README.md file.\n",
    "\n",
    "## Table of Contents:\n",
    "- [Background](#Background)\n",
    "- [Connection to EMR Cluster](#Connection-to-EMR-Cluster)\n",
    "- [Import Datasets and Write to EMR Cluster](#Import-Datasets)\n",
    "- [Data Exploration and Visualiztion](#Data-Exploration-and-Visualiztion)\n",
    "- [Using SQL to Query Data from EMR Cluster](#Using-SQL)\n",
    "- [Machine Learning on EMR Cluster using Spark](#Machine-Learning)\n",
    "- [Reading and Writing CSV, JSON and Parquet Data to EMR Cluster](#Reading-and-Writing-CSV,-JSON-and-Parquet-Data-to-EMR-Cluster)\n",
    "- [Disconnect the EMR Connection](#Disconnect-the-EMR-Connection)\n",
    "\n",
    "\n",
    "## Background\n",
    "#### SparklyR:\n",
    "\n",
    "The [Sparklyr](https://spark.rstudio.com/) package by RStudio makes big data processing capabilities in R a lot easier by providing an R interface to [Apache Spark](https://spark.apache.org/). According to the documentation, `SparklyR` can:\n",
    "> - Connect to Spark from R. The sparklyr package provides a complete [dplyr](https://github.com/hadley/dplyr) backend.\n",
    "> - Filter and aggregate Spark datasets then bring them into R for analysis and visualization.\n",
    "> - Use Spark’s distributed [machine learning](http://spark.apache.org/docs/latest/mllib-guide.html) library from R.\n",
    "> - Create [extensions](http://spark.rstudio.com/extensions.html) that call the full Spark API and provide interfaces to Spark packages.\n",
    "\n",
    "#### Amazon EMR:\n",
    "Amazon EMR is a popular hosted big data processing service on AWS. EMR provides the latest version of Spark and other Hadoop ecosystem applications such as Apache Spark, Apache Hive, Apache HBase, as well as Hue, Sqoop, Tez, Zeppeling, TensorFlow, and Presto. [Amazon EMR](https://aws.amazon.com/emr/) mentions:\n",
    "> Amazon EMR is the industry-leading cloud big data platform for processing vast amounts of data using open source tools such as Apache Spark, Apache Hive, Apache HBase, Apache Flink, Apache Hudi, and Presto. With EMR you can run Petabyte-scale analysis at less than half of the cost of traditional on-premises solutions and over 3x faster than standard Apache Spark. For short-running jobs, you can spin up and spin down clusters and pay per second for the instances used. For long-running workloads, you can create highly available clusters that automatically scale to meet demand. If you have existing on-premises deployments of open source tools such as Apache Spark and Apache Hive, you can also run EMR clusters on AWS Outposts.\n",
    "\n",
    "#### Apache Livy:\n",
    "[Apache Livy](https://livy.apache.org/) is a REST Service for Apache Spark that allows submission of jobs to Spark clusters from anywhere using REST interfaces. The documentation mentions:\n",
    "> Apache Livy enables easy interaction with a Spark cluster over a REST interface. It enables easy submission of Spark jobs or snippets of Spark code, synchronous or asynchronous result retrieval, as well as Spark Context management, all via a simple REST interface or an RPC client library. "
   ]
  },
  {
   "cell_type": "markdown",
   "metadata": {},
   "source": [
    "## Connection to EMR Cluster\n",
    "Before running the code in this notebook, you should follow the steps in the README.md file to allow the connection to the EMR cluster through port 8998 (livy). We will use `spark_connect` with `livy` to connect to the EMR cluster through this port."
   ]
  },
  {
   "cell_type": "code",
   "execution_count": 1,
   "metadata": {},
   "outputs": [],
   "source": [
    "# Switching warnings off\n",
    "options(warn=-1)"
   ]
  },
  {
   "cell_type": "code",
   "execution_count": 2,
   "metadata": {},
   "outputs": [],
   "source": [
    "# Install sparklyr package\n",
    "suppressMessages(install.packages(\"sparklyr\"))\n",
    "library(sparklyr)"
   ]
  },
  {
   "cell_type": "code",
   "execution_count": 3,
   "metadata": {},
   "outputs": [
    {
     "data": {
      "text/html": [
       "'ec2-100-26-111-163.compute-1.amazonaws.com:8998'"
      ],
      "text/latex": [
       "'ec2-100-26-111-163.compute-1.amazonaws.com:8998'"
      ],
      "text/markdown": [
       "'ec2-100-26-111-163.compute-1.amazonaws.com:8998'"
      ],
      "text/plain": [
       "[1] \"ec2-100-26-111-163.compute-1.amazonaws.com:8998\""
      ]
     },
     "metadata": {},
     "output_type": "display_data"
    }
   ],
   "source": [
    "# Master public DNS\n",
    "# Replace this with the EMR public DNS from EMR details\n",
    "emr_dns <- 'REPLACE THIS WITH YOUR EMR MASTER PUBLIC DNS'\n",
    "master_port <- paste(emr_dns,':8998',sep = '')\n",
    "master_port"
   ]
  },
  {
   "cell_type": "code",
   "execution_count": 4,
   "metadata": {},
   "outputs": [],
   "source": [
    "# Establish Connetion with EMR cluster's mater instance through port 8998 using livy method\n",
    "sc <- spark_connect(master = master_port, \n",
    "            method = 'livy', \n",
    "            version ='2.4.4',\n",
    "            spark_home = Sys.getenv(\"SPARK_HOME\"),\n",
    "            app_name = \"sparklyr\")"
   ]
  },
  {
   "cell_type": "code",
   "execution_count": 5,
   "metadata": {},
   "outputs": [
    {
     "data": {
      "text/html": [
       "TRUE"
      ],
      "text/latex": [
       "TRUE"
      ],
      "text/markdown": [
       "TRUE"
      ],
      "text/plain": [
       "[1] TRUE"
      ]
     },
     "metadata": {},
     "output_type": "display_data"
    }
   ],
   "source": [
    "# Check if connection is established\n",
    "spark_connection_is_open(sc)"
   ]
  },
  {
   "cell_type": "markdown",
   "metadata": {},
   "source": [
    "## Import Datasets"
   ]
  },
  {
   "cell_type": "code",
   "execution_count": 6,
   "metadata": {
    "scrolled": false
   },
   "outputs": [],
   "source": [
    "# Import dplyr and readr library\n",
    "library(dplyr, warn.conflicts = FALSE)\n",
    "library(readr)"
   ]
  },
  {
   "cell_type": "code",
   "execution_count": 7,
   "metadata": {
    "scrolled": false
   },
   "outputs": [
    {
     "name": "stderr",
     "output_type": "stream",
     "text": [
      "Parsed with column specification:\n",
      "cols(\n",
      "  sex = col_character(),\n",
      "  length = col_double(),\n",
      "  diameter = col_double(),\n",
      "  height = col_double(),\n",
      "  whole_weight = col_double(),\n",
      "  shucked_weight = col_double(),\n",
      "  viscera_weight = col_double(),\n",
      "  shell_weight = col_double(),\n",
      "  rings = col_double()\n",
      ")\n"
     ]
    },
    {
     "data": {
      "text/html": [
       "<table>\n",
       "<thead><tr><th scope=col>sex</th><th scope=col>length</th><th scope=col>diameter</th><th scope=col>height</th><th scope=col>whole_weight</th><th scope=col>shucked_weight</th><th scope=col>viscera_weight</th><th scope=col>shell_weight</th><th scope=col>rings</th></tr></thead>\n",
       "<tbody>\n",
       "\t<tr><td>M     </td><td>0.455 </td><td>0.365 </td><td>0.095 </td><td>0.5140</td><td>0.2245</td><td>0.1010</td><td>0.150 </td><td>15    </td></tr>\n",
       "\t<tr><td>M     </td><td>0.350 </td><td>0.265 </td><td>0.090 </td><td>0.2255</td><td>0.0995</td><td>0.0485</td><td>0.070 </td><td> 7    </td></tr>\n",
       "\t<tr><td>F     </td><td>0.530 </td><td>0.420 </td><td>0.135 </td><td>0.6770</td><td>0.2565</td><td>0.1415</td><td>0.210 </td><td> 9    </td></tr>\n",
       "\t<tr><td>M     </td><td>0.440 </td><td>0.365 </td><td>0.125 </td><td>0.5160</td><td>0.2155</td><td>0.1140</td><td>0.155 </td><td>10    </td></tr>\n",
       "\t<tr><td>I     </td><td>0.330 </td><td>0.255 </td><td>0.080 </td><td>0.2050</td><td>0.0895</td><td>0.0395</td><td>0.055 </td><td> 7    </td></tr>\n",
       "\t<tr><td>I     </td><td>0.425 </td><td>0.300 </td><td>0.095 </td><td>0.3515</td><td>0.1410</td><td>0.0775</td><td>0.120 </td><td> 8    </td></tr>\n",
       "</tbody>\n",
       "</table>\n"
      ],
      "text/latex": [
       "\\begin{tabular}{r|lllllllll}\n",
       " sex & length & diameter & height & whole\\_weight & shucked\\_weight & viscera\\_weight & shell\\_weight & rings\\\\\n",
       "\\hline\n",
       "\t M      & 0.455  & 0.365  & 0.095  & 0.5140 & 0.2245 & 0.1010 & 0.150  & 15    \\\\\n",
       "\t M      & 0.350  & 0.265  & 0.090  & 0.2255 & 0.0995 & 0.0485 & 0.070  &  7    \\\\\n",
       "\t F      & 0.530  & 0.420  & 0.135  & 0.6770 & 0.2565 & 0.1415 & 0.210  &  9    \\\\\n",
       "\t M      & 0.440  & 0.365  & 0.125  & 0.5160 & 0.2155 & 0.1140 & 0.155  & 10    \\\\\n",
       "\t I      & 0.330  & 0.255  & 0.080  & 0.2050 & 0.0895 & 0.0395 & 0.055  &  7    \\\\\n",
       "\t I      & 0.425  & 0.300  & 0.095  & 0.3515 & 0.1410 & 0.0775 & 0.120  &  8    \\\\\n",
       "\\end{tabular}\n"
      ],
      "text/markdown": [
       "\n",
       "| sex | length | diameter | height | whole_weight | shucked_weight | viscera_weight | shell_weight | rings |\n",
       "|---|---|---|---|---|---|---|---|---|\n",
       "| M      | 0.455  | 0.365  | 0.095  | 0.5140 | 0.2245 | 0.1010 | 0.150  | 15     |\n",
       "| M      | 0.350  | 0.265  | 0.090  | 0.2255 | 0.0995 | 0.0485 | 0.070  |  7     |\n",
       "| F      | 0.530  | 0.420  | 0.135  | 0.6770 | 0.2565 | 0.1415 | 0.210  |  9     |\n",
       "| M      | 0.440  | 0.365  | 0.125  | 0.5160 | 0.2155 | 0.1140 | 0.155  | 10     |\n",
       "| I      | 0.330  | 0.255  | 0.080  | 0.2050 | 0.0895 | 0.0395 | 0.055  |  7     |\n",
       "| I      | 0.425  | 0.300  | 0.095  | 0.3515 | 0.1410 | 0.0775 | 0.120  |  8     |\n",
       "\n"
      ],
      "text/plain": [
       "  sex length diameter height whole_weight shucked_weight viscera_weight\n",
       "1 M   0.455  0.365    0.095  0.5140       0.2245         0.1010        \n",
       "2 M   0.350  0.265    0.090  0.2255       0.0995         0.0485        \n",
       "3 F   0.530  0.420    0.135  0.6770       0.2565         0.1415        \n",
       "4 M   0.440  0.365    0.125  0.5160       0.2155         0.1140        \n",
       "5 I   0.330  0.255    0.080  0.2050       0.0895         0.0395        \n",
       "6 I   0.425  0.300    0.095  0.3515       0.1410         0.0775        \n",
       "  shell_weight rings\n",
       "1 0.150        15   \n",
       "2 0.070         7   \n",
       "3 0.210         9   \n",
       "4 0.155        10   \n",
       "5 0.055         7   \n",
       "6 0.120         8   "
      ]
     },
     "metadata": {},
     "output_type": "display_data"
    }
   ],
   "source": [
    "# Import abalone dataset from UCI \n",
    "cols <- c('sex', 'length', 'diameter', 'height', 'whole_weight', 'shucked_weight', 'viscera_weight', 'shell_weight', 'rings')\n",
    "data_file <- 'http://archive.ics.uci.edu/ml/machine-learning-databases/abalone/abalone.data'\n",
    "abalone <- read_csv(file = data_file, col_names = cols)\n",
    "head(abalone)"
   ]
  },
  {
   "cell_type": "code",
   "execution_count": 8,
   "metadata": {
    "scrolled": false
   },
   "outputs": [],
   "source": [
    "# Import dplyr library\n",
    "library(dplyr, warn.conflicts = FALSE)"
   ]
  },
  {
   "cell_type": "code",
   "execution_count": 9,
   "metadata": {},
   "outputs": [
    {
     "data": {
      "text/html": [
       "<table>\n",
       "<thead><tr><th scope=col>Sepal.Length</th><th scope=col>Sepal.Width</th><th scope=col>Petal.Length</th><th scope=col>Petal.Width</th><th scope=col>Species</th></tr></thead>\n",
       "<tbody>\n",
       "\t<tr><td>5.1   </td><td>3.5   </td><td>1.4   </td><td>0.2   </td><td>setosa</td></tr>\n",
       "\t<tr><td>4.9   </td><td>3.0   </td><td>1.4   </td><td>0.2   </td><td>setosa</td></tr>\n",
       "\t<tr><td>4.7   </td><td>3.2   </td><td>1.3   </td><td>0.2   </td><td>setosa</td></tr>\n",
       "\t<tr><td>4.6   </td><td>3.1   </td><td>1.5   </td><td>0.2   </td><td>setosa</td></tr>\n",
       "\t<tr><td>5.0   </td><td>3.6   </td><td>1.4   </td><td>0.2   </td><td>setosa</td></tr>\n",
       "\t<tr><td>5.4   </td><td>3.9   </td><td>1.7   </td><td>0.4   </td><td>setosa</td></tr>\n",
       "</tbody>\n",
       "</table>\n"
      ],
      "text/latex": [
       "\\begin{tabular}{r|lllll}\n",
       " Sepal.Length & Sepal.Width & Petal.Length & Petal.Width & Species\\\\\n",
       "\\hline\n",
       "\t 5.1    & 3.5    & 1.4    & 0.2    & setosa\\\\\n",
       "\t 4.9    & 3.0    & 1.4    & 0.2    & setosa\\\\\n",
       "\t 4.7    & 3.2    & 1.3    & 0.2    & setosa\\\\\n",
       "\t 4.6    & 3.1    & 1.5    & 0.2    & setosa\\\\\n",
       "\t 5.0    & 3.6    & 1.4    & 0.2    & setosa\\\\\n",
       "\t 5.4    & 3.9    & 1.7    & 0.4    & setosa\\\\\n",
       "\\end{tabular}\n"
      ],
      "text/markdown": [
       "\n",
       "| Sepal.Length | Sepal.Width | Petal.Length | Petal.Width | Species |\n",
       "|---|---|---|---|---|\n",
       "| 5.1    | 3.5    | 1.4    | 0.2    | setosa |\n",
       "| 4.9    | 3.0    | 1.4    | 0.2    | setosa |\n",
       "| 4.7    | 3.2    | 1.3    | 0.2    | setosa |\n",
       "| 4.6    | 3.1    | 1.5    | 0.2    | setosa |\n",
       "| 5.0    | 3.6    | 1.4    | 0.2    | setosa |\n",
       "| 5.4    | 3.9    | 1.7    | 0.4    | setosa |\n",
       "\n"
      ],
      "text/plain": [
       "  Sepal.Length Sepal.Width Petal.Length Petal.Width Species\n",
       "1 5.1          3.5         1.4          0.2         setosa \n",
       "2 4.9          3.0         1.4          0.2         setosa \n",
       "3 4.7          3.2         1.3          0.2         setosa \n",
       "4 4.6          3.1         1.5          0.2         setosa \n",
       "5 5.0          3.6         1.4          0.2         setosa \n",
       "6 5.4          3.9         1.7          0.4         setosa "
      ]
     },
     "metadata": {},
     "output_type": "display_data"
    }
   ],
   "source": [
    "# import and check iris dataset\n",
    "library(datasets)\n",
    "data(iris)\n",
    "head(iris)"
   ]
  },
  {
   "cell_type": "code",
   "execution_count": 10,
   "metadata": {},
   "outputs": [
    {
     "data": {
      "text/html": [
       "<ol class=list-inline>\n",
       "\t<li>'abalone'</li>\n",
       "\t<li>'iris'</li>\n",
       "</ol>\n"
      ],
      "text/latex": [
       "\\begin{enumerate*}\n",
       "\\item 'abalone'\n",
       "\\item 'iris'\n",
       "\\end{enumerate*}\n"
      ],
      "text/markdown": [
       "1. 'abalone'\n",
       "2. 'iris'\n",
       "\n",
       "\n"
      ],
      "text/plain": [
       "[1] \"abalone\" \"iris\"   "
      ]
     },
     "metadata": {},
     "output_type": "display_data"
    }
   ],
   "source": [
    "# Send the dataset to the EMR cluster\n",
    "iris_tbl <- copy_to(sc, iris, overwrite = TRUE)\n",
    "abalone_tbl <- copy_to(sc, abalone, overwrite = TRUE)\n",
    "\n",
    "# check the tables on the cluster\n",
    "# output should be 'abalone' 'iris'\n",
    "src_tbls(sc)"
   ]
  },
  {
   "cell_type": "code",
   "execution_count": 11,
   "metadata": {
    "scrolled": true
   },
   "outputs": [
    {
     "data": {
      "text/plain": [
       "# Source: spark<abalone> [?? x 9]\n",
       "   sex   length diameter height whole_weight shucked_weight viscera_weight\n",
       "   <chr>  <dbl>    <dbl>  <dbl>        <dbl>          <dbl>          <dbl>\n",
       " 1 M      0.455    0.365  0.095        0.514         0.224          0.101 \n",
       " 2 M      0.35     0.265  0.09         0.226         0.0995         0.0485\n",
       " 3 F      0.53     0.42   0.135        0.677         0.256          0.142 \n",
       " 4 M      0.44     0.365  0.125        0.516         0.216          0.114 \n",
       " 5 I      0.33     0.255  0.08         0.205         0.0895         0.0395\n",
       " 6 I      0.425    0.3    0.095        0.352         0.141          0.0775\n",
       " 7 F      0.53     0.415  0.15         0.778         0.237          0.142 \n",
       " 8 F      0.545    0.425  0.125        0.768         0.294          0.150 \n",
       " 9 M      0.475    0.37   0.125        0.509         0.216          0.112 \n",
       "10 F      0.55     0.44   0.15         0.894         0.314          0.151 \n",
       "# … with more rows, and 2 more variables: shell_weight <dbl>, rings <dbl>"
      ]
     },
     "metadata": {},
     "output_type": "display_data"
    }
   ],
   "source": [
    "# Show the abalone table within the cluster\n",
    "abalone_tbl"
   ]
  },
  {
   "cell_type": "code",
   "execution_count": 12,
   "metadata": {},
   "outputs": [
    {
     "data": {
      "text/plain": [
       "# Source: spark<iris> [?? x 5]\n",
       "   Sepal_Length Sepal_Width Petal_Length Petal_Width Species\n",
       "          <dbl>       <dbl>        <dbl>       <dbl> <chr>  \n",
       " 1          5.1         3.5          1.4         0.2 setosa \n",
       " 2          4.9         3            1.4         0.2 setosa \n",
       " 3          4.7         3.2          1.3         0.2 setosa \n",
       " 4          4.6         3.1          1.5         0.2 setosa \n",
       " 5          5           3.6          1.4         0.2 setosa \n",
       " 6          5.4         3.9          1.7         0.4 setosa \n",
       " 7          4.6         3.4          1.4         0.3 setosa \n",
       " 8          5           3.4          1.5         0.2 setosa \n",
       " 9          4.4         2.9          1.4         0.2 setosa \n",
       "10          4.9         3.1          1.5         0.1 setosa \n",
       "# … with more rows"
      ]
     },
     "metadata": {},
     "output_type": "display_data"
    }
   ],
   "source": [
    "# Show the iris table, use the table within the cluster\n",
    "iris_tbl"
   ]
  },
  {
   "cell_type": "code",
   "execution_count": 13,
   "metadata": {},
   "outputs": [
    {
     "data": {
      "text/plain": [
       "# Source: spark<?> [?? x 9]\n",
       "   sex   length diameter height whole_weight shucked_weight viscera_weight\n",
       "   <chr>  <dbl>    <dbl>  <dbl>        <dbl>          <dbl>          <dbl>\n",
       " 1 M      0.455    0.365  0.095        0.514         0.224          0.101 \n",
       " 2 M      0.35     0.265  0.09         0.226         0.0995         0.0485\n",
       " 3 M      0.44     0.365  0.125        0.516         0.216          0.114 \n",
       " 4 M      0.475    0.37   0.125        0.509         0.216          0.112 \n",
       " 5 M      0.43     0.35   0.11         0.406         0.168          0.081 \n",
       " 6 M      0.49     0.38   0.135        0.542         0.218          0.095 \n",
       " 7 M      0.5      0.4    0.13         0.664         0.258          0.133 \n",
       " 8 M      0.365    0.295  0.08         0.256         0.097          0.043 \n",
       " 9 M      0.45     0.32   0.1          0.381         0.170          0.075 \n",
       "10 M      0.355    0.28   0.095        0.246         0.0955         0.062 \n",
       "# … with more rows, and 2 more variables: shell_weight <dbl>, rings <dbl>"
      ]
     },
     "metadata": {},
     "output_type": "display_data"
    }
   ],
   "source": [
    "# filter the abalone table within the cluster by Sex==\"M\", use the table within the cluster\n",
    "abalone_tbl %>% filter(sex == 'M')"
   ]
  },
  {
   "cell_type": "markdown",
   "metadata": {},
   "source": [
    "## Data Exploration and Visualiztion\n",
    "In this sections of this notebook, `abalone` dataset on the EMR cluster will be used."
   ]
  },
  {
   "cell_type": "code",
   "execution_count": 14,
   "metadata": {},
   "outputs": [
    {
     "data": {
      "text/html": [
       "<table>\n",
       "<thead><tr><th scope=col>sex</th><th scope=col>avg_len</th><th scope=col>avg_dia</th><th scope=col>avg_ht</th><th scope=col>avg_w_wgt</th><th scope=col>avg_shk_wgt</th><th scope=col>avg_vsc_wgt</th></tr></thead>\n",
       "<tbody>\n",
       "\t<tr><td>F        </td><td>0.5790933</td><td>0.4547322</td><td>0.1580107</td><td>1.0465321</td><td>0.4461878</td><td>0.4461878</td></tr>\n",
       "\t<tr><td>M        </td><td>0.5613907</td><td>0.4392866</td><td>0.1513809</td><td>0.9914594</td><td>0.4329460</td><td>0.4329460</td></tr>\n",
       "\t<tr><td>I        </td><td>0.4277459</td><td>0.3264940</td><td>0.1079955</td><td>0.4313625</td><td>0.1910350</td><td>0.1910350</td></tr>\n",
       "</tbody>\n",
       "</table>\n"
      ],
      "text/latex": [
       "\\begin{tabular}{r|lllllll}\n",
       " sex & avg\\_len & avg\\_dia & avg\\_ht & avg\\_w\\_wgt & avg\\_shk\\_wgt & avg\\_vsc\\_wgt\\\\\n",
       "\\hline\n",
       "\t F         & 0.5790933 & 0.4547322 & 0.1580107 & 1.0465321 & 0.4461878 & 0.4461878\\\\\n",
       "\t M         & 0.5613907 & 0.4392866 & 0.1513809 & 0.9914594 & 0.4329460 & 0.4329460\\\\\n",
       "\t I         & 0.4277459 & 0.3264940 & 0.1079955 & 0.4313625 & 0.1910350 & 0.1910350\\\\\n",
       "\\end{tabular}\n"
      ],
      "text/markdown": [
       "\n",
       "| sex | avg_len | avg_dia | avg_ht | avg_w_wgt | avg_shk_wgt | avg_vsc_wgt |\n",
       "|---|---|---|---|---|---|---|\n",
       "| F         | 0.5790933 | 0.4547322 | 0.1580107 | 1.0465321 | 0.4461878 | 0.4461878 |\n",
       "| M         | 0.5613907 | 0.4392866 | 0.1513809 | 0.9914594 | 0.4329460 | 0.4329460 |\n",
       "| I         | 0.4277459 | 0.3264940 | 0.1079955 | 0.4313625 | 0.1910350 | 0.1910350 |\n",
       "\n"
      ],
      "text/plain": [
       "  sex avg_len   avg_dia   avg_ht    avg_w_wgt avg_shk_wgt avg_vsc_wgt\n",
       "1 F   0.5790933 0.4547322 0.1580107 1.0465321 0.4461878   0.4461878  \n",
       "2 M   0.5613907 0.4392866 0.1513809 0.9914594 0.4329460   0.4329460  \n",
       "3 I   0.4277459 0.3264940 0.1079955 0.4313625 0.1910350   0.1910350  "
      ]
     },
     "metadata": {},
     "output_type": "display_data"
    }
   ],
   "source": [
    "# Creating a summary table called abalones using the table within the cluster\n",
    "abalones <- abalone_tbl %>%\n",
    "  group_by(sex)%>%\n",
    "  summarise(avg_len = mean(length), \n",
    "            avg_dia = mean(diameter),\n",
    "           avg_ht = mean(height),\n",
    "           avg_w_wgt = mean(whole_weight),\n",
    "           avg_shk_wgt = mean(shucked_weight),\n",
    "           avg_vsc_wgt = mean(shucked_weight)) %>% collect\n",
    "  \n",
    "head(abalones)"
   ]
  },
  {
   "cell_type": "code",
   "execution_count": 15,
   "metadata": {},
   "outputs": [
    {
     "name": "stderr",
     "output_type": "stream",
     "text": [
      "Registered S3 methods overwritten by 'ggplot2':\n",
      "  method         from \n",
      "  [.quosures     rlang\n",
      "  c.quosures     rlang\n",
      "  print.quosures rlang\n"
     ]
    },
    {
     "data": {
      "image/png": "[encoded data removed]",
      "text/plain": [
       "plot without title"
      ]
     },
     "metadata": {},
     "output_type": "display_data"
    }
   ],
   "source": [
    "# plot abalone table within the cluster\n",
    "library(ggplot2)\n",
    "\n",
    "# Set the size of the plot\n",
    "options(repr.plot.width = 5, repr.plot.height = 4) \n",
    "\n",
    "# plot the data\n",
    "ggplot(abalone_tbl, aes(diameter, whole_weight)) +\n",
    "    geom_point(aes(size = length, color=sex), alpha = 1/2) +\n",
    "    geom_smooth(method = lm, formula = y ~ poly(x,3)) +\n",
    "    scale_size_area(max_size = 2) +\n",
    "    xlab('Diameter (mm)') +\n",
    "    ylab('Whole Weight (grams)') +\n",
    "    ggtitle('Abalone Data (Weight vs Diameter)')"
   ]
  },
  {
   "cell_type": "markdown",
   "metadata": {},
   "source": [
    "## Using SQL\n",
    "The spark_connection object implements a `DBI` interface for Spark and `dbGetQuery` can be used to execute SQL and return the result as an R data frame. Let's query some data from the `abalone` table on the cluster."
   ]
  },
  {
   "cell_type": "code",
   "execution_count": 16,
   "metadata": {},
   "outputs": [
    {
     "data": {
      "text/html": [
       "<table>\n",
       "<thead><tr><th scope=col>sex</th><th scope=col>length</th><th scope=col>diameter</th><th scope=col>height</th><th scope=col>whole_weight</th><th scope=col>shucked_weight</th><th scope=col>viscera_weight</th><th scope=col>shell_weight</th><th scope=col>rings</th></tr></thead>\n",
       "<tbody>\n",
       "\t<tr><td>M     </td><td>0.455 </td><td>0.365 </td><td>0.095 </td><td>0.5140</td><td>0.2245</td><td>0.1010</td><td>0.150 </td><td>15    </td></tr>\n",
       "\t<tr><td>M     </td><td>0.350 </td><td>0.265 </td><td>0.090 </td><td>0.2255</td><td>0.0995</td><td>0.0485</td><td>0.070 </td><td> 7    </td></tr>\n",
       "\t<tr><td>F     </td><td>0.530 </td><td>0.420 </td><td>0.135 </td><td>0.6770</td><td>0.2565</td><td>0.1415</td><td>0.210 </td><td> 9    </td></tr>\n",
       "\t<tr><td>M     </td><td>0.440 </td><td>0.365 </td><td>0.125 </td><td>0.5160</td><td>0.2155</td><td>0.1140</td><td>0.155 </td><td>10    </td></tr>\n",
       "\t<tr><td>I     </td><td>0.330 </td><td>0.255 </td><td>0.080 </td><td>0.2050</td><td>0.0895</td><td>0.0395</td><td>0.055 </td><td> 7    </td></tr>\n",
       "\t<tr><td>I     </td><td>0.425 </td><td>0.300 </td><td>0.095 </td><td>0.3515</td><td>0.1410</td><td>0.0775</td><td>0.120 </td><td> 8    </td></tr>\n",
       "\t<tr><td>F     </td><td>0.530 </td><td>0.415 </td><td>0.150 </td><td>0.7775</td><td>0.2370</td><td>0.1415</td><td>0.330 </td><td>20    </td></tr>\n",
       "\t<tr><td>F     </td><td>0.545 </td><td>0.425 </td><td>0.125 </td><td>0.7680</td><td>0.2940</td><td>0.1495</td><td>0.260 </td><td>16    </td></tr>\n",
       "\t<tr><td>M     </td><td>0.475 </td><td>0.370 </td><td>0.125 </td><td>0.5095</td><td>0.2165</td><td>0.1125</td><td>0.165 </td><td> 9    </td></tr>\n",
       "\t<tr><td>F     </td><td>0.550 </td><td>0.440 </td><td>0.150 </td><td>0.8945</td><td>0.3145</td><td>0.1510</td><td>0.320 </td><td>19    </td></tr>\n",
       "</tbody>\n",
       "</table>\n"
      ],
      "text/latex": [
       "\\begin{tabular}{r|lllllllll}\n",
       " sex & length & diameter & height & whole\\_weight & shucked\\_weight & viscera\\_weight & shell\\_weight & rings\\\\\n",
       "\\hline\n",
       "\t M      & 0.455  & 0.365  & 0.095  & 0.5140 & 0.2245 & 0.1010 & 0.150  & 15    \\\\\n",
       "\t M      & 0.350  & 0.265  & 0.090  & 0.2255 & 0.0995 & 0.0485 & 0.070  &  7    \\\\\n",
       "\t F      & 0.530  & 0.420  & 0.135  & 0.6770 & 0.2565 & 0.1415 & 0.210  &  9    \\\\\n",
       "\t M      & 0.440  & 0.365  & 0.125  & 0.5160 & 0.2155 & 0.1140 & 0.155  & 10    \\\\\n",
       "\t I      & 0.330  & 0.255  & 0.080  & 0.2050 & 0.0895 & 0.0395 & 0.055  &  7    \\\\\n",
       "\t I      & 0.425  & 0.300  & 0.095  & 0.3515 & 0.1410 & 0.0775 & 0.120  &  8    \\\\\n",
       "\t F      & 0.530  & 0.415  & 0.150  & 0.7775 & 0.2370 & 0.1415 & 0.330  & 20    \\\\\n",
       "\t F      & 0.545  & 0.425  & 0.125  & 0.7680 & 0.2940 & 0.1495 & 0.260  & 16    \\\\\n",
       "\t M      & 0.475  & 0.370  & 0.125  & 0.5095 & 0.2165 & 0.1125 & 0.165  &  9    \\\\\n",
       "\t F      & 0.550  & 0.440  & 0.150  & 0.8945 & 0.3145 & 0.1510 & 0.320  & 19    \\\\\n",
       "\\end{tabular}\n"
      ],
      "text/markdown": [
       "\n",
       "| sex | length | diameter | height | whole_weight | shucked_weight | viscera_weight | shell_weight | rings |\n",
       "|---|---|---|---|---|---|---|---|---|\n",
       "| M      | 0.455  | 0.365  | 0.095  | 0.5140 | 0.2245 | 0.1010 | 0.150  | 15     |\n",
       "| M      | 0.350  | 0.265  | 0.090  | 0.2255 | 0.0995 | 0.0485 | 0.070  |  7     |\n",
       "| F      | 0.530  | 0.420  | 0.135  | 0.6770 | 0.2565 | 0.1415 | 0.210  |  9     |\n",
       "| M      | 0.440  | 0.365  | 0.125  | 0.5160 | 0.2155 | 0.1140 | 0.155  | 10     |\n",
       "| I      | 0.330  | 0.255  | 0.080  | 0.2050 | 0.0895 | 0.0395 | 0.055  |  7     |\n",
       "| I      | 0.425  | 0.300  | 0.095  | 0.3515 | 0.1410 | 0.0775 | 0.120  |  8     |\n",
       "| F      | 0.530  | 0.415  | 0.150  | 0.7775 | 0.2370 | 0.1415 | 0.330  | 20     |\n",
       "| F      | 0.545  | 0.425  | 0.125  | 0.7680 | 0.2940 | 0.1495 | 0.260  | 16     |\n",
       "| M      | 0.475  | 0.370  | 0.125  | 0.5095 | 0.2165 | 0.1125 | 0.165  |  9     |\n",
       "| F      | 0.550  | 0.440  | 0.150  | 0.8945 | 0.3145 | 0.1510 | 0.320  | 19     |\n",
       "\n"
      ],
      "text/plain": [
       "   sex length diameter height whole_weight shucked_weight viscera_weight\n",
       "1  M   0.455  0.365    0.095  0.5140       0.2245         0.1010        \n",
       "2  M   0.350  0.265    0.090  0.2255       0.0995         0.0485        \n",
       "3  F   0.530  0.420    0.135  0.6770       0.2565         0.1415        \n",
       "4  M   0.440  0.365    0.125  0.5160       0.2155         0.1140        \n",
       "5  I   0.330  0.255    0.080  0.2050       0.0895         0.0395        \n",
       "6  I   0.425  0.300    0.095  0.3515       0.1410         0.0775        \n",
       "7  F   0.530  0.415    0.150  0.7775       0.2370         0.1415        \n",
       "8  F   0.545  0.425    0.125  0.7680       0.2940         0.1495        \n",
       "9  M   0.475  0.370    0.125  0.5095       0.2165         0.1125        \n",
       "10 F   0.550  0.440    0.150  0.8945       0.3145         0.1510        \n",
       "   shell_weight rings\n",
       "1  0.150        15   \n",
       "2  0.070         7   \n",
       "3  0.210         9   \n",
       "4  0.155        10   \n",
       "5  0.055         7   \n",
       "6  0.120         8   \n",
       "7  0.330        20   \n",
       "8  0.260        16   \n",
       "9  0.165         9   \n",
       "10 0.320        19   "
      ]
     },
     "metadata": {},
     "output_type": "display_data"
    }
   ],
   "source": [
    "# import DBI library for executing SQL query\n",
    "library(DBI)\n",
    "\n",
    "# Get data from the cluster using SQL\n",
    "abalone_preview <- dbGetQuery(sc, \"SELECT * FROM abalone LIMIT 10\")\n",
    "abalone_preview"
   ]
  },
  {
   "cell_type": "markdown",
   "metadata": {},
   "source": [
    "## Machine Learning\n",
    "You can build and train machine learning algorithms in a Spark cluster via the machine learning functions within sparklyr that connect to a set of high-level APIs built on top of DataFrames.\n",
    "\n",
    "This section outlines an example from [SparklyR Documentation](https://spark.rstudio.com/) where  [Linear Regression](https://spark.rstudio.com/reference/ml_linear_regression/) is used with the built-in `mtcars` dataset to predict a car’s fuel consumption (mpg) based on weight (wt), and the number of cylinders the engine contains (cyl)."
   ]
  },
  {
   "cell_type": "code",
   "execution_count": 17,
   "metadata": {},
   "outputs": [
    {
     "data": {
      "text/plain": [
       "Formula: mpg ~ wt + cyl\n",
       "\n",
       "Coefficients:\n",
       "(Intercept)          wt         cyl \n",
       "  33.499452   -2.818463   -0.923187 "
      ]
     },
     "metadata": {},
     "output_type": "display_data"
    }
   ],
   "source": [
    "# Code from https://spark.rstudio.com/\n",
    "\n",
    "# copy mtcars into spark\n",
    "mtcars_tbl <- copy_to(sc, mtcars)\n",
    "\n",
    "# transform our data set, and then partition into 'training', 'test'\n",
    "partitions <- mtcars_tbl %>%\n",
    "  filter(hp >= 100) %>%\n",
    "  mutate(cyl8 = cyl == 8) %>%\n",
    "  sdf_partition(training = 0.5, test = 0.5, seed = 1099)\n",
    "\n",
    "# fit a linear model to the training dataset\n",
    "fit <- partitions$training %>%\n",
    "  ml_linear_regression(response = \"mpg\", features = c(\"wt\", \"cyl\"))\n",
    "fit"
   ]
  },
  {
   "cell_type": "markdown",
   "metadata": {},
   "source": [
    "Let's use `summary()` to get more details about the linear regression models produced by Spark."
   ]
  },
  {
   "cell_type": "code",
   "execution_count": 18,
   "metadata": {},
   "outputs": [
    {
     "name": "stdout",
     "output_type": "stream",
     "text": [
      "Deviance Residuals:\n",
      "   Min     1Q Median     3Q    Max \n",
      "-1.752 -1.134 -0.499  1.296  2.282 \n",
      "\n",
      "Coefficients:\n",
      "(Intercept)          wt         cyl \n",
      "  33.499452   -2.818463   -0.923187 \n",
      "\n",
      "R-Squared: 0.8274\n",
      "Root Mean Squared Error: 1.422\n"
     ]
    }
   ],
   "source": [
    "summary(fit)"
   ]
  },
  {
   "cell_type": "markdown",
   "metadata": {},
   "source": [
    "## Reading and Writing CSV, JSON and Parquet Data to EMR Cluster\n",
    "Data can be read and written in CSV, JSON, and Parquet formats. Also, data can be stored in HDFS, S3, or on the local filesystem of cluster nodes. In this section, we create 3 different formats of the iris dataset, and write them to the cluster."
   ]
  },
  {
   "cell_type": "code",
   "execution_count": 19,
   "metadata": {},
   "outputs": [
    {
     "data": {
      "text/html": [
       "<ol class=list-inline>\n",
       "\t<li>'abalone'</li>\n",
       "\t<li>'iris'</li>\n",
       "\t<li>'iris_csv'</li>\n",
       "\t<li>'iris_json'</li>\n",
       "\t<li>'iris_parquet'</li>\n",
       "\t<li>'mtcars'</li>\n",
       "</ol>\n"
      ],
      "text/latex": [
       "\\begin{enumerate*}\n",
       "\\item 'abalone'\n",
       "\\item 'iris'\n",
       "\\item 'iris\\_csv'\n",
       "\\item 'iris\\_json'\n",
       "\\item 'iris\\_parquet'\n",
       "\\item 'mtcars'\n",
       "\\end{enumerate*}\n"
      ],
      "text/markdown": [
       "1. 'abalone'\n",
       "2. 'iris'\n",
       "3. 'iris_csv'\n",
       "4. 'iris_json'\n",
       "5. 'iris_parquet'\n",
       "6. 'mtcars'\n",
       "\n",
       "\n"
      ],
      "text/plain": [
       "[1] \"abalone\"      \"iris\"         \"iris_csv\"     \"iris_json\"    \"iris_parquet\"\n",
       "[6] \"mtcars\"      "
      ]
     },
     "metadata": {},
     "output_type": "display_data"
    }
   ],
   "source": [
    "# Code from https://spark.rstudio.com/\n",
    "\n",
    "# Create blank temp files in three formats\n",
    "temp_csv <- tempfile(fileext = \".csv\")\n",
    "temp_parquet <- tempfile(fileext = \".parquet\")\n",
    "temp_json <- tempfile(fileext = \".json\")\n",
    "\n",
    "# write iris_table from the cluster to these blank temp files on the cluster then read them using spark\n",
    "spark_write_csv(iris_tbl, temp_csv)\n",
    "iris_csv_tbl <- spark_read_csv(sc, \"iris_csv\", temp_csv)\n",
    "\n",
    "spark_write_parquet(iris_tbl, temp_parquet)\n",
    "iris_parquet_tbl <- spark_read_parquet(sc, \"iris_parquet\", temp_parquet)\n",
    "\n",
    "spark_write_json(iris_tbl, temp_json)\n",
    "iris_json_tbl <- spark_read_json(sc, \"iris_json\", temp_json)\n",
    "\n",
    "# show the tables on the cluter\n",
    "# Should look like 'abalone' 'iris' 'iris_csv' 'iris_json' 'iris_parquet' 'mtcars'\n",
    "src_tbls(sc)"
   ]
  },
  {
   "cell_type": "markdown",
   "metadata": {},
   "source": [
    "## Disconnect the EMR Connection"
   ]
  },
  {
   "cell_type": "code",
   "execution_count": 20,
   "metadata": {},
   "outputs": [],
   "source": [
    "# disconnect connection with the EMR Cluster\n",
    "spark_disconnect(sc)"
   ]
  },
  {
   "cell_type": "code",
   "execution_count": 21,
   "metadata": {},
   "outputs": [
    {
     "data": {
      "text/html": [
       "FALSE"
      ],
      "text/latex": [
       "FALSE"
      ],
      "text/markdown": [
       "FALSE"
      ],
      "text/plain": [
       "[1] FALSE"
      ]
     },
     "metadata": {},
     "output_type": "display_data"
    }
   ],
   "source": [
    "# Check the connection again, it should be \"FALSE\"\n",
    "spark_connection_is_open(sc)"
   ]
  }
 ],
 "metadata": {
  "kernelspec": {
   "display_name": "R",
   "language": "R",
   "name": "ir"
  },
  "language_info": {
   "codemirror_mode": "r",
   "file_extension": ".r",
   "mimetype": "text/x-r-source",
   "name": "R",
   "pygments_lexer": "r",
   "version": "3.6.1"
  }
 },
 "nbformat": 4,
 "nbformat_minor": 4
}
